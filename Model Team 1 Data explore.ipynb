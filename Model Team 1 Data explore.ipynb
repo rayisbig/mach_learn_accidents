{
 "cells": [
  {
   "cell_type": "code",
   "execution_count": 5,
   "metadata": {},
   "outputs": [],
   "source": [
    "import pandas as pd\n",
    "import numpy as np\n",
    "import os\n",
    "from datetime import datetime\n",
    "import category_encoders as ce\n",
    "import xgboost as xgb\n",
    "from sklearn.model_selection import train_test_split\n",
    "from typing import Tuple\n",
    "\n",
    "import seaborn as sns"
   ]
  },
  {
   "cell_type": "code",
   "execution_count": 14,
   "metadata": {},
   "outputs": [],
   "source": [
    "filepath = \"C:\\\\Users\\\\rcaldwell\\\\Documents\\\\modelling-club-team-1\\\\data\\\\Accidents\\\\\""
   ]
  },
  {
   "cell_type": "code",
   "execution_count": 15,
   "metadata": {},
   "outputs": [],
   "source": [
    "files = os.listdir(\"C:\\\\Users\\\\rcaldwell\\\\Documents\\\\modelling-club-team-1\\\\data\\\\Accidents\")"
   ]
  },
  {
   "cell_type": "code",
   "execution_count": 16,
   "metadata": {
    "scrolled": true
   },
   "outputs": [
    {
     "data": {
      "text/html": [
       "<div>\n",
       "<style scoped>\n",
       "    .dataframe tbody tr th:only-of-type {\n",
       "        vertical-align: middle;\n",
       "    }\n",
       "\n",
       "    .dataframe tbody tr th {\n",
       "        vertical-align: top;\n",
       "    }\n",
       "\n",
       "    .dataframe thead th {\n",
       "        text-align: right;\n",
       "    }\n",
       "</style>\n",
       "<table border=\"1\" class=\"dataframe\">\n",
       "  <thead>\n",
       "    <tr style=\"text-align: right;\">\n",
       "      <th></th>\n",
       "      <th>Unnamed: 0.1</th>\n",
       "      <th>Accident_Index</th>\n",
       "      <th>Location_Easting_OSGR</th>\n",
       "      <th>Location_Northing_OSGR</th>\n",
       "      <th>Longitude</th>\n",
       "      <th>Latitude</th>\n",
       "      <th>Police_Force</th>\n",
       "      <th>Accident_Severity</th>\n",
       "      <th>Number_of_Vehicles</th>\n",
       "      <th>Number_of_Casualties</th>\n",
       "      <th>...</th>\n",
       "      <th>Pedestrian_Crossing-Human_Control</th>\n",
       "      <th>Pedestrian_Crossing-Physical_Facilities</th>\n",
       "      <th>Light_Conditions</th>\n",
       "      <th>Weather_Conditions</th>\n",
       "      <th>Road_Surface_Conditions</th>\n",
       "      <th>Special_Conditions_at_Site</th>\n",
       "      <th>Carriageway_Hazards</th>\n",
       "      <th>Urban_or_Rural_Area</th>\n",
       "      <th>Did_Police_Officer_Attend_Scene_of_Accident</th>\n",
       "      <th>date_new</th>\n",
       "    </tr>\n",
       "  </thead>\n",
       "  <tbody>\n",
       "    <tr>\n",
       "      <th>0</th>\n",
       "      <td>0</td>\n",
       "      <td>200501BS00001</td>\n",
       "      <td>525680.0</td>\n",
       "      <td>178240.0</td>\n",
       "      <td>-0.191170</td>\n",
       "      <td>51.489096</td>\n",
       "      <td>Metropolitan Police</td>\n",
       "      <td>Serious</td>\n",
       "      <td>1</td>\n",
       "      <td>1</td>\n",
       "      <td>...</td>\n",
       "      <td>None within 50 metres</td>\n",
       "      <td>Control by school crossing patrol</td>\n",
       "      <td>Daylight</td>\n",
       "      <td>Raining no high winds</td>\n",
       "      <td>Wet or damp</td>\n",
       "      <td>None</td>\n",
       "      <td>None</td>\n",
       "      <td>Urban</td>\n",
       "      <td>Yes</td>\n",
       "      <td>2005-04-01</td>\n",
       "    </tr>\n",
       "    <tr>\n",
       "      <th>1</th>\n",
       "      <td>1</td>\n",
       "      <td>200501BS00002</td>\n",
       "      <td>524170.0</td>\n",
       "      <td>181650.0</td>\n",
       "      <td>-0.211708</td>\n",
       "      <td>51.520075</td>\n",
       "      <td>Metropolitan Police</td>\n",
       "      <td>Slight</td>\n",
       "      <td>1</td>\n",
       "      <td>1</td>\n",
       "      <td>...</td>\n",
       "      <td>None within 50 metres</td>\n",
       "      <td>5</td>\n",
       "      <td>Darkness - lights lit</td>\n",
       "      <td>Fine no high winds</td>\n",
       "      <td>Dry</td>\n",
       "      <td>None</td>\n",
       "      <td>None</td>\n",
       "      <td>Urban</td>\n",
       "      <td>Yes</td>\n",
       "      <td>2005-05-01</td>\n",
       "    </tr>\n",
       "    <tr>\n",
       "      <th>2</th>\n",
       "      <td>2</td>\n",
       "      <td>200501BS00003</td>\n",
       "      <td>524520.0</td>\n",
       "      <td>182240.0</td>\n",
       "      <td>-0.206458</td>\n",
       "      <td>51.525301</td>\n",
       "      <td>Metropolitan Police</td>\n",
       "      <td>Slight</td>\n",
       "      <td>2</td>\n",
       "      <td>1</td>\n",
       "      <td>...</td>\n",
       "      <td>None within 50 metres</td>\n",
       "      <td>None within 50 metres</td>\n",
       "      <td>Darkness - lights lit</td>\n",
       "      <td>Fine no high winds</td>\n",
       "      <td>Dry</td>\n",
       "      <td>None</td>\n",
       "      <td>None</td>\n",
       "      <td>Urban</td>\n",
       "      <td>Yes</td>\n",
       "      <td>2005-06-01</td>\n",
       "    </tr>\n",
       "    <tr>\n",
       "      <th>3</th>\n",
       "      <td>3</td>\n",
       "      <td>200501BS00004</td>\n",
       "      <td>526900.0</td>\n",
       "      <td>177530.0</td>\n",
       "      <td>-0.173862</td>\n",
       "      <td>51.482442</td>\n",
       "      <td>Metropolitan Police</td>\n",
       "      <td>Slight</td>\n",
       "      <td>1</td>\n",
       "      <td>1</td>\n",
       "      <td>...</td>\n",
       "      <td>None within 50 metres</td>\n",
       "      <td>None within 50 metres</td>\n",
       "      <td>Daylight</td>\n",
       "      <td>Fine no high winds</td>\n",
       "      <td>Dry</td>\n",
       "      <td>None</td>\n",
       "      <td>None</td>\n",
       "      <td>Urban</td>\n",
       "      <td>Yes</td>\n",
       "      <td>2005-07-01</td>\n",
       "    </tr>\n",
       "    <tr>\n",
       "      <th>4</th>\n",
       "      <td>4</td>\n",
       "      <td>200501BS00005</td>\n",
       "      <td>528060.0</td>\n",
       "      <td>179040.0</td>\n",
       "      <td>-0.156618</td>\n",
       "      <td>51.495752</td>\n",
       "      <td>Metropolitan Police</td>\n",
       "      <td>Slight</td>\n",
       "      <td>1</td>\n",
       "      <td>1</td>\n",
       "      <td>...</td>\n",
       "      <td>None within 50 metres</td>\n",
       "      <td>None within 50 metres</td>\n",
       "      <td>Darkness - lighting unknown</td>\n",
       "      <td>Fine no high winds</td>\n",
       "      <td>Wet or damp</td>\n",
       "      <td>None</td>\n",
       "      <td>None</td>\n",
       "      <td>Urban</td>\n",
       "      <td>Yes</td>\n",
       "      <td>2005-10-01</td>\n",
       "    </tr>\n",
       "    <tr>\n",
       "      <th>5</th>\n",
       "      <td>5</td>\n",
       "      <td>200501BS00006</td>\n",
       "      <td>524770.0</td>\n",
       "      <td>181160.0</td>\n",
       "      <td>-0.203238</td>\n",
       "      <td>51.515540</td>\n",
       "      <td>Metropolitan Police</td>\n",
       "      <td>Slight</td>\n",
       "      <td>2</td>\n",
       "      <td>1</td>\n",
       "      <td>...</td>\n",
       "      <td>None within 50 metres</td>\n",
       "      <td>None within 50 metres</td>\n",
       "      <td>Daylight</td>\n",
       "      <td>Raining no high winds</td>\n",
       "      <td>Wet or damp</td>\n",
       "      <td>Oil or diesel</td>\n",
       "      <td>None</td>\n",
       "      <td>Urban</td>\n",
       "      <td>Yes</td>\n",
       "      <td>2005-11-01</td>\n",
       "    </tr>\n",
       "    <tr>\n",
       "      <th>6</th>\n",
       "      <td>6</td>\n",
       "      <td>200501BS00007</td>\n",
       "      <td>524220.0</td>\n",
       "      <td>180830.0</td>\n",
       "      <td>-0.211277</td>\n",
       "      <td>51.512695</td>\n",
       "      <td>Metropolitan Police</td>\n",
       "      <td>Slight</td>\n",
       "      <td>2</td>\n",
       "      <td>1</td>\n",
       "      <td>...</td>\n",
       "      <td>None within 50 metres</td>\n",
       "      <td>None within 50 metres</td>\n",
       "      <td>Darkness - lights lit</td>\n",
       "      <td>Fine no high winds</td>\n",
       "      <td>Dry</td>\n",
       "      <td>None</td>\n",
       "      <td>None</td>\n",
       "      <td>Urban</td>\n",
       "      <td>Yes</td>\n",
       "      <td>2005-01-13</td>\n",
       "    </tr>\n",
       "    <tr>\n",
       "      <th>7</th>\n",
       "      <td>7</td>\n",
       "      <td>200501BS00009</td>\n",
       "      <td>525890.0</td>\n",
       "      <td>179710.0</td>\n",
       "      <td>-0.187623</td>\n",
       "      <td>51.502260</td>\n",
       "      <td>Metropolitan Police</td>\n",
       "      <td>Slight</td>\n",
       "      <td>1</td>\n",
       "      <td>2</td>\n",
       "      <td>...</td>\n",
       "      <td>None within 50 metres</td>\n",
       "      <td>None within 50 metres</td>\n",
       "      <td>Daylight</td>\n",
       "      <td>Fine no high winds</td>\n",
       "      <td>Dry</td>\n",
       "      <td>None</td>\n",
       "      <td>None</td>\n",
       "      <td>Urban</td>\n",
       "      <td>Yes</td>\n",
       "      <td>2005-01-14</td>\n",
       "    </tr>\n",
       "    <tr>\n",
       "      <th>8</th>\n",
       "      <td>8</td>\n",
       "      <td>200501BS00010</td>\n",
       "      <td>527350.0</td>\n",
       "      <td>177650.0</td>\n",
       "      <td>-0.167342</td>\n",
       "      <td>51.483420</td>\n",
       "      <td>Metropolitan Police</td>\n",
       "      <td>Slight</td>\n",
       "      <td>2</td>\n",
       "      <td>2</td>\n",
       "      <td>...</td>\n",
       "      <td>None within 50 metres</td>\n",
       "      <td>5</td>\n",
       "      <td>Darkness - lights lit</td>\n",
       "      <td>Fine no high winds</td>\n",
       "      <td>Dry</td>\n",
       "      <td>None</td>\n",
       "      <td>None</td>\n",
       "      <td>Urban</td>\n",
       "      <td>Yes</td>\n",
       "      <td>2005-01-15</td>\n",
       "    </tr>\n",
       "    <tr>\n",
       "      <th>9</th>\n",
       "      <td>9</td>\n",
       "      <td>200501BS00011</td>\n",
       "      <td>524550.0</td>\n",
       "      <td>180810.0</td>\n",
       "      <td>-0.206531</td>\n",
       "      <td>51.512443</td>\n",
       "      <td>Metropolitan Police</td>\n",
       "      <td>Slight</td>\n",
       "      <td>2</td>\n",
       "      <td>5</td>\n",
       "      <td>...</td>\n",
       "      <td>None within 50 metres</td>\n",
       "      <td>8</td>\n",
       "      <td>Daylight</td>\n",
       "      <td>Fine no high winds</td>\n",
       "      <td>Dry</td>\n",
       "      <td>None</td>\n",
       "      <td>None</td>\n",
       "      <td>Urban</td>\n",
       "      <td>Yes</td>\n",
       "      <td>2005-01-15</td>\n",
       "    </tr>\n",
       "  </tbody>\n",
       "</table>\n",
       "<p>10 rows × 33 columns</p>\n",
       "</div>"
      ],
      "text/plain": [
       "   Unnamed: 0.1 Accident_Index  Location_Easting_OSGR  Location_Northing_OSGR  \\\n",
       "0             0  200501BS00001               525680.0                178240.0   \n",
       "1             1  200501BS00002               524170.0                181650.0   \n",
       "2             2  200501BS00003               524520.0                182240.0   \n",
       "3             3  200501BS00004               526900.0                177530.0   \n",
       "4             4  200501BS00005               528060.0                179040.0   \n",
       "5             5  200501BS00006               524770.0                181160.0   \n",
       "6             6  200501BS00007               524220.0                180830.0   \n",
       "7             7  200501BS00009               525890.0                179710.0   \n",
       "8             8  200501BS00010               527350.0                177650.0   \n",
       "9             9  200501BS00011               524550.0                180810.0   \n",
       "\n",
       "   Longitude   Latitude         Police_Force Accident_Severity  \\\n",
       "0  -0.191170  51.489096  Metropolitan Police           Serious   \n",
       "1  -0.211708  51.520075  Metropolitan Police            Slight   \n",
       "2  -0.206458  51.525301  Metropolitan Police            Slight   \n",
       "3  -0.173862  51.482442  Metropolitan Police            Slight   \n",
       "4  -0.156618  51.495752  Metropolitan Police            Slight   \n",
       "5  -0.203238  51.515540  Metropolitan Police            Slight   \n",
       "6  -0.211277  51.512695  Metropolitan Police            Slight   \n",
       "7  -0.187623  51.502260  Metropolitan Police            Slight   \n",
       "8  -0.167342  51.483420  Metropolitan Police            Slight   \n",
       "9  -0.206531  51.512443  Metropolitan Police            Slight   \n",
       "\n",
       "   Number_of_Vehicles  Number_of_Casualties  ...  \\\n",
       "0                   1                     1  ...   \n",
       "1                   1                     1  ...   \n",
       "2                   2                     1  ...   \n",
       "3                   1                     1  ...   \n",
       "4                   1                     1  ...   \n",
       "5                   2                     1  ...   \n",
       "6                   2                     1  ...   \n",
       "7                   1                     2  ...   \n",
       "8                   2                     2  ...   \n",
       "9                   2                     5  ...   \n",
       "\n",
       "  Pedestrian_Crossing-Human_Control Pedestrian_Crossing-Physical_Facilities  \\\n",
       "0            None within 50 metres        Control by school crossing patrol   \n",
       "1            None within 50 metres                                        5   \n",
       "2            None within 50 metres                   None within 50 metres    \n",
       "3            None within 50 metres                   None within 50 metres    \n",
       "4            None within 50 metres                   None within 50 metres    \n",
       "5            None within 50 metres                   None within 50 metres    \n",
       "6            None within 50 metres                   None within 50 metres    \n",
       "7            None within 50 metres                   None within 50 metres    \n",
       "8            None within 50 metres                                        5   \n",
       "9            None within 50 metres                                        8   \n",
       "\n",
       "              Light_Conditions     Weather_Conditions Road_Surface_Conditions  \\\n",
       "0                     Daylight  Raining no high winds             Wet or damp   \n",
       "1        Darkness - lights lit     Fine no high winds                     Dry   \n",
       "2        Darkness - lights lit     Fine no high winds                     Dry   \n",
       "3                     Daylight     Fine no high winds                     Dry   \n",
       "4  Darkness - lighting unknown     Fine no high winds             Wet or damp   \n",
       "5                     Daylight  Raining no high winds             Wet or damp   \n",
       "6        Darkness - lights lit     Fine no high winds                     Dry   \n",
       "7                     Daylight     Fine no high winds                     Dry   \n",
       "8        Darkness - lights lit     Fine no high winds                     Dry   \n",
       "9                     Daylight     Fine no high winds                     Dry   \n",
       "\n",
       "  Special_Conditions_at_Site  Carriageway_Hazards Urban_or_Rural_Area  \\\n",
       "0                       None                 None               Urban   \n",
       "1                       None                 None               Urban   \n",
       "2                       None                 None               Urban   \n",
       "3                       None                 None               Urban   \n",
       "4                       None                 None               Urban   \n",
       "5              Oil or diesel                 None               Urban   \n",
       "6                       None                 None               Urban   \n",
       "7                       None                 None               Urban   \n",
       "8                       None                 None               Urban   \n",
       "9                       None                 None               Urban   \n",
       "\n",
       "   Did_Police_Officer_Attend_Scene_of_Accident   date_new  \n",
       "0                                          Yes 2005-04-01  \n",
       "1                                          Yes 2005-05-01  \n",
       "2                                          Yes 2005-06-01  \n",
       "3                                          Yes 2005-07-01  \n",
       "4                                          Yes 2005-10-01  \n",
       "5                                          Yes 2005-11-01  \n",
       "6                                          Yes 2005-01-13  \n",
       "7                                          Yes 2005-01-14  \n",
       "8                                          Yes 2005-01-15  \n",
       "9                                          Yes 2005-01-15  \n",
       "\n",
       "[10 rows x 33 columns]"
      ]
     },
     "execution_count": 16,
     "metadata": {},
     "output_type": "execute_result"
    }
   ],
   "source": [
    "# Function to read in dates correctly\n",
    "date_parser = lambda x : datetime.strptime(x, \"%Y-%m-%d\")\n",
    "data = pd.concat([pd.read_csv(filepath+x\n",
    "                   ,index_col=0\n",
    "                   ,parse_dates=[\"date_new\"]) for x in files]\n",
    "                ,ignore_index=True)\n",
    "\n",
    "data.head(10)"
   ]
  },
  {
   "cell_type": "markdown",
   "metadata": {},
   "source": [
    "### Vehicles"
   ]
  },
  {
   "cell_type": "code",
   "execution_count": 50,
   "metadata": {},
   "outputs": [],
   "source": [
    "vehicle_filepath = \"C:\\\\Users\\\\rcaldwell\\\\Documents\\\\modelling-club-team-1\\\\data\\\\Vehicles\\\\\"\n",
    "vehicle_files = os.listdir(\"C:\\\\Users\\\\rcaldwell\\\\Documents\\\\modelling-club-team-1\\\\data\\\\Vehicles\")"
   ]
  },
  {
   "cell_type": "code",
   "execution_count": 56,
   "metadata": {},
   "outputs": [
    {
     "data": {
      "text/plain": [
       "['vehicles_model_2005.csv',\n",
       " 'vehicles_model_2006.csv',\n",
       " 'vehicles_model_2007.csv',\n",
       " 'vehicles_model_2008.csv',\n",
       " 'vehicles_model_2009.csv',\n",
       " 'vehicles_model_2010.csv',\n",
       " 'vehicles_model_2011.csv',\n",
       " 'vehicles_model_2012.csv']"
      ]
     },
     "execution_count": 56,
     "metadata": {},
     "output_type": "execute_result"
    }
   ],
   "source": [
    "vehicle_files"
   ]
  },
  {
   "cell_type": "code",
   "execution_count": 59,
   "metadata": {},
   "outputs": [
    {
     "ename": "TypeError",
     "evalue": "can only concatenate str (not \"list\") to str",
     "output_type": "error",
     "traceback": [
      "\u001b[1;31m---------------------------------------------------------------------------\u001b[0m",
      "\u001b[1;31mTypeError\u001b[0m                                 Traceback (most recent call last)",
      "\u001b[1;32m<ipython-input-59-9e355243e9ff>\u001b[0m in \u001b[0;36m<module>\u001b[1;34m\u001b[0m\n\u001b[0;32m      1\u001b[0m \u001b[1;31m# Function to read in dates correctly\u001b[0m\u001b[1;33m\u001b[0m\u001b[1;33m\u001b[0m\u001b[1;33m\u001b[0m\u001b[0m\n\u001b[0;32m      2\u001b[0m \u001b[0mvehicle_date_parser\u001b[0m \u001b[1;33m=\u001b[0m \u001b[1;32mlambda\u001b[0m \u001b[0mx\u001b[0m \u001b[1;33m:\u001b[0m \u001b[0mdatetime\u001b[0m\u001b[1;33m.\u001b[0m\u001b[0mstrptime\u001b[0m\u001b[1;33m(\u001b[0m\u001b[0mx\u001b[0m\u001b[1;33m,\u001b[0m \u001b[1;34m\"%Y-%m-%d\"\u001b[0m\u001b[1;33m)\u001b[0m\u001b[1;33m\u001b[0m\u001b[1;33m\u001b[0m\u001b[0m\n\u001b[1;32m----> 3\u001b[1;33m \u001b[0mvehicle_data\u001b[0m \u001b[1;33m=\u001b[0m \u001b[0mpd\u001b[0m\u001b[1;33m.\u001b[0m\u001b[0mconcat\u001b[0m\u001b[1;33m(\u001b[0m\u001b[0mpd\u001b[0m\u001b[1;33m.\u001b[0m\u001b[0mread_csv\u001b[0m\u001b[1;33m(\u001b[0m\u001b[0mvehicle_filepath\u001b[0m \u001b[1;33m+\u001b[0m \u001b[0mvehicle_files\u001b[0m\u001b[1;33m)\u001b[0m\u001b[1;33m)\u001b[0m\u001b[1;33m\u001b[0m\u001b[1;33m\u001b[0m\u001b[0m\n\u001b[0m\u001b[0;32m      4\u001b[0m \u001b[1;33m\u001b[0m\u001b[0m\n\u001b[0;32m      5\u001b[0m \u001b[0mvehicle_data\u001b[0m\u001b[1;33m.\u001b[0m\u001b[0mhead\u001b[0m\u001b[1;33m(\u001b[0m\u001b[1;36m10\u001b[0m\u001b[1;33m)\u001b[0m\u001b[1;33m\u001b[0m\u001b[1;33m\u001b[0m\u001b[0m\n",
      "\u001b[1;31mTypeError\u001b[0m: can only concatenate str (not \"list\") to str"
     ]
    }
   ],
   "source": [
    "# Function to read in dates correctly\n",
    "vehicle_date_parser = lambda x : datetime.strptime(x, \"%Y-%m-%d\")\n",
    "vehicle_data = pd.concat(pd.read_csv(vehicle_filepath + vehicle_files))\n",
    "\n",
    "vehicle_data.head(10)"
   ]
  },
  {
   "cell_type": "code",
   "execution_count": null,
   "metadata": {},
   "outputs": [],
   "source": [
    "# Explore variables"
   ]
  },
  {
   "cell_type": "code",
   "execution_count": null,
   "metadata": {},
   "outputs": [],
   "source": []
  },
  {
   "cell_type": "code",
   "execution_count": null,
   "metadata": {},
   "outputs": [],
   "source": [
    "# Aggregate correctly"
   ]
  },
  {
   "cell_type": "code",
   "execution_count": null,
   "metadata": {},
   "outputs": [],
   "source": []
  },
  {
   "cell_type": "code",
   "execution_count": null,
   "metadata": {},
   "outputs": [],
   "source": []
  },
  {
   "cell_type": "code",
   "execution_count": null,
   "metadata": {},
   "outputs": [],
   "source": []
  },
  {
   "cell_type": "code",
   "execution_count": null,
   "metadata": {},
   "outputs": [],
   "source": []
  },
  {
   "cell_type": "code",
   "execution_count": 17,
   "metadata": {
    "scrolled": true
   },
   "outputs": [
    {
     "name": "stdout",
     "output_type": "stream",
     "text": [
      "<class 'pandas.core.frame.DataFrame'>\n",
      "RangeIndex: 1355615 entries, 0 to 1355614\n",
      "Data columns (total 33 columns):\n",
      " #   Column                                       Non-Null Count    Dtype         \n",
      "---  ------                                       --------------    -----         \n",
      " 0   Unnamed: 0.1                                 1355615 non-null  int64         \n",
      " 1   Accident_Index                               1355615 non-null  object        \n",
      " 2   Location_Easting_OSGR                        1355504 non-null  float64       \n",
      " 3   Location_Northing_OSGR                       1355504 non-null  float64       \n",
      " 4   Longitude                                    1355504 non-null  float64       \n",
      " 5   Latitude                                     1355504 non-null  float64       \n",
      " 6   Police_Force                                 1355615 non-null  object        \n",
      " 7   Accident_Severity                            1355615 non-null  object        \n",
      " 8   Number_of_Vehicles                           1355615 non-null  int64         \n",
      " 9   Number_of_Casualties                         1355615 non-null  int64         \n",
      " 10  Date                                         1355615 non-null  object        \n",
      " 11  Day_of_Week                                  1355615 non-null  object        \n",
      " 12  Time                                         1355490 non-null  object        \n",
      " 13  Local_Authority_(District)                   1355615 non-null  object        \n",
      " 14  Local_Authority_(Highway)                    1355615 non-null  object        \n",
      " 15  1st_Road_Class                               1355615 non-null  object        \n",
      " 16  1st_Road_Number                              1355615 non-null  int64         \n",
      " 17  Road_Type                                    1355615 non-null  object        \n",
      " 18  Speed_limit                                  1355615 non-null  int64         \n",
      " 19  Junction_Detail                              1355605 non-null  object        \n",
      " 20  Junction_Control                             881568 non-null   object        \n",
      " 21  2nd_Road_Class                               792229 non-null   object        \n",
      " 22  2nd_Road_Number                              1355615 non-null  int64         \n",
      " 23  Pedestrian_Crossing-Human_Control            1355594 non-null  object        \n",
      " 24  Pedestrian_Crossing-Physical_Facilities      1355578 non-null  object        \n",
      " 25  Light_Conditions                             1355615 non-null  object        \n",
      " 26  Weather_Conditions                           1355454 non-null  object        \n",
      " 27  Road_Surface_Conditions                      1353941 non-null  object        \n",
      " 28  Special_Conditions_at_Site                   1355598 non-null  object        \n",
      " 29  Carriageway_Hazards                          1355586 non-null  object        \n",
      " 30  Urban_or_Rural_Area                          1355615 non-null  object        \n",
      " 31  Did_Police_Officer_Attend_Scene_of_Accident  1355346 non-null  object        \n",
      " 32  date_new                                     1355615 non-null  datetime64[ns]\n",
      "dtypes: datetime64[ns](1), float64(4), int64(6), object(22)\n",
      "memory usage: 341.3+ MB\n"
     ]
    }
   ],
   "source": [
    "data.info()"
   ]
  },
  {
   "cell_type": "markdown",
   "metadata": {},
   "source": [
    "Add total darkness flag"
   ]
  },
  {
   "cell_type": "code",
   "execution_count": 48,
   "metadata": {},
   "outputs": [
    {
     "data": {
      "text/plain": [
       "array(['Daylight', 'Darkness - lights lit', 'Darkness - lighting unknown',\n",
       "       'Darkness - lights unlit', 'Darkness - no lighting'], dtype=object)"
      ]
     },
     "execution_count": 48,
     "metadata": {},
     "output_type": "execute_result"
    }
   ],
   "source": [
    "data['Light_Conditions'].unique()"
   ]
  },
  {
   "cell_type": "code",
   "execution_count": 49,
   "metadata": {},
   "outputs": [
    {
     "ename": "AttributeError",
     "evalue": "module 'pandas' has no attribute 'when'",
     "output_type": "error",
     "traceback": [
      "\u001b[1;31m---------------------------------------------------------------------------\u001b[0m",
      "\u001b[1;31mAttributeError\u001b[0m                            Traceback (most recent call last)",
      "\u001b[1;32m<ipython-input-49-34a28d8c53a7>\u001b[0m in \u001b[0;36m<module>\u001b[1;34m\u001b[0m\n\u001b[1;32m----> 1\u001b[1;33m \u001b[0mdata\u001b[0m\u001b[1;33m[\u001b[0m\u001b[1;34m'dark_flag'\u001b[0m\u001b[1;33m]\u001b[0m \u001b[1;33m=\u001b[0m \u001b[0mpd\u001b[0m\u001b[1;33m.\u001b[0m\u001b[0mwhen\u001b[0m\u001b[1;33m(\u001b[0m\u001b[0mdata\u001b[0m\u001b[1;33m[\u001b[0m\u001b[1;34m'Light_Conditions'\u001b[0m\u001b[1;33m]\u001b[0m\u001b[1;33m.\u001b[0m\u001b[0misin\u001b[0m\u001b[1;33m(\u001b[0m\u001b[1;34m'Darkness - lights unlit'\u001b[0m\u001b[1;33m,\u001b[0m \u001b[1;34m'Darkness - no lighting'\u001b[0m\u001b[1;33m)\u001b[0m\u001b[1;33m,\u001b[0m\u001b[1;36m1\u001b[0m\u001b[1;33m)\u001b[0m\u001b[1;33m\u001b[0m\u001b[1;33m\u001b[0m\u001b[0m\n\u001b[0m",
      "\u001b[1;32m~\\Anaconda3\\lib\\site-packages\\pandas\\__init__.py\u001b[0m in \u001b[0;36m__getattr__\u001b[1;34m(name)\u001b[0m\n\u001b[0;32m    260\u001b[0m             \u001b[1;32mreturn\u001b[0m \u001b[0m_SparseArray\u001b[0m\u001b[1;33m\u001b[0m\u001b[1;33m\u001b[0m\u001b[0m\n\u001b[0;32m    261\u001b[0m \u001b[1;33m\u001b[0m\u001b[0m\n\u001b[1;32m--> 262\u001b[1;33m         \u001b[1;32mraise\u001b[0m \u001b[0mAttributeError\u001b[0m\u001b[1;33m(\u001b[0m\u001b[1;34mf\"module 'pandas' has no attribute '{name}'\"\u001b[0m\u001b[1;33m)\u001b[0m\u001b[1;33m\u001b[0m\u001b[1;33m\u001b[0m\u001b[0m\n\u001b[0m\u001b[0;32m    263\u001b[0m \u001b[1;33m\u001b[0m\u001b[0m\n\u001b[0;32m    264\u001b[0m \u001b[1;33m\u001b[0m\u001b[0m\n",
      "\u001b[1;31mAttributeError\u001b[0m: module 'pandas' has no attribute 'when'"
     ]
    }
   ],
   "source": [
    "data['dark_flag'] = pd.when(data['Light_Conditions'].isin('Darkness - lights unlit', 'Darkness - no lighting'),1)"
   ]
  },
  {
   "cell_type": "code",
   "execution_count": 18,
   "metadata": {
    "scrolled": true
   },
   "outputs": [
    {
     "data": {
      "text/plain": [
       "array(['Wet or damp', 'Dry', 'Frost or ice', 'Snow',\n",
       "       'Flood over 3cm. deep', nan], dtype=object)"
      ]
     },
     "execution_count": 18,
     "metadata": {},
     "output_type": "execute_result"
    }
   ],
   "source": [
    "data['Road_Surface_Conditions'].unique()"
   ]
  },
  {
   "cell_type": "code",
   "execution_count": 19,
   "metadata": {},
   "outputs": [
    {
     "data": {
      "text/plain": [
       "['Accident_Index',\n",
       " 'Police_Force',\n",
       " 'Date',\n",
       " 'Day_of_Week',\n",
       " 'Time',\n",
       " 'Local_Authority_(District)',\n",
       " 'Local_Authority_(Highway)',\n",
       " '1st_Road_Class',\n",
       " 'Road_Type',\n",
       " 'Junction_Detail',\n",
       " 'Junction_Control',\n",
       " '2nd_Road_Class',\n",
       " 'Pedestrian_Crossing-Human_Control',\n",
       " 'Pedestrian_Crossing-Physical_Facilities',\n",
       " 'Light_Conditions',\n",
       " 'Weather_Conditions',\n",
       " 'Road_Surface_Conditions',\n",
       " 'Special_Conditions_at_Site',\n",
       " 'Carriageway_Hazards',\n",
       " 'Urban_or_Rural_Area',\n",
       " 'Did_Police_Officer_Attend_Scene_of_Accident']"
      ]
     },
     "execution_count": 19,
     "metadata": {},
     "output_type": "execute_result"
    }
   ],
   "source": [
    "cat_columns = []\n",
    "\n",
    "for i, v in enumerate(data.dtypes):\n",
    "    if v == np.dtype('O'):\n",
    "        cat_columns.append(data.dtypes.index[i])\n",
    "\n",
    "# Encode response manually\n",
    "cat_columns.remove('Accident_Severity')\n",
    "cat_columns"
   ]
  },
  {
   "cell_type": "markdown",
   "metadata": {},
   "source": [
    "### Variable Explore"
   ]
  },
  {
   "cell_type": "code",
   "execution_count": 20,
   "metadata": {},
   "outputs": [
    {
     "data": {
      "text/plain": [
       "array(['Avon and Somerset', 'Bedfordshire', 'Cambridgeshire', 'Central',\n",
       "       'Cheshire', 'City of London', 'Cleveland', 'Cumbria', 'Derbyshire',\n",
       "       'Devon and Cornwall', 'Dorset', 'Dumfries and Galloway', 'Durham',\n",
       "       'Dyfed-Powys', 'Essex', 'Fife', 'Gloucestershire', 'Grampian',\n",
       "       'Greater Manchester', 'Gwent', 'Hampshire', 'Hertfordshire',\n",
       "       'Humberside', 'Kent', 'Lancashire', 'Leicestershire',\n",
       "       'Lincolnshire', 'Lothian and Borders', 'Merseyside',\n",
       "       'Metropolitan Police', 'Norfolk', 'North Wales', 'North Yorkshire',\n",
       "       'Northamptonshire', 'Northern', 'Northumbria', 'Nottinghamshire',\n",
       "       'South Wales', 'South Yorkshire', 'Staffordshire', 'Strathclyde',\n",
       "       'Suffolk', 'Surrey', 'Sussex', 'Tayside', 'Thames Valley',\n",
       "       'Warwickshire', 'West Mercia', 'West Midlands', 'West Yorkshire',\n",
       "       'Wiltshire'], dtype=object)"
      ]
     },
     "execution_count": 20,
     "metadata": {},
     "output_type": "execute_result"
    }
   ],
   "source": [
    "np.sort(data['Police_Force'].unique())"
   ]
  },
  {
   "cell_type": "code",
   "execution_count": 21,
   "metadata": {},
   "outputs": [
    {
     "data": {
      "text/plain": [
       "<matplotlib.axes._subplots.AxesSubplot at 0x146ad636ac8>"
      ]
     },
     "execution_count": 21,
     "metadata": {},
     "output_type": "execute_result"
    },
    {
     "data": {
      "image/png": "[encoded data removed]",
      "text/plain": [
       "<Figure size 432x288 with 1 Axes>"
      ]
     },
     "metadata": {
      "needs_background": "light"
     },
     "output_type": "display_data"
    }
   ],
   "source": [
    "data.groupby(['Number_of_Vehicles']).count()[\"Accident_Index\"].plot.bar()"
   ]
  },
  {
   "cell_type": "code",
   "execution_count": 22,
   "metadata": {},
   "outputs": [
    {
     "data": {
      "text/plain": [
       "<matplotlib.axes._subplots.AxesSubplot at 0x146afa32fc8>"
      ]
     },
     "execution_count": 22,
     "metadata": {},
     "output_type": "execute_result"
    },
    {
     "data": {
      "image/png": "[encoded data removed]",
      "text/plain": [
       "<Figure size 432x288 with 1 Axes>"
      ]
     },
     "metadata": {
      "needs_background": "light"
     },
     "output_type": "display_data"
    }
   ],
   "source": [
    "data.groupby(['Number_of_Casualties']).count()[\"Accident_Index\"].plot.bar()"
   ]
  },
  {
   "cell_type": "code",
   "execution_count": 23,
   "metadata": {
    "scrolled": true
   },
   "outputs": [
    {
     "data": {
      "text/plain": [
       "<matplotlib.axes._subplots.AxesSubplot at 0x146b50d7348>"
      ]
     },
     "execution_count": 23,
     "metadata": {},
     "output_type": "execute_result"
    },
    {
     "data": {
      "image/png": "[encoded data removed]",
      "text/plain": [
       "<Figure size 432x288 with 1 Axes>"
      ]
     },
     "metadata": {
      "needs_background": "light"
     },
     "output_type": "display_data"
    }
   ],
   "source": [
    "dowData = data.groupby(by=[\"Day_of_Week\"]).count()[\"Accident_Index\"]\n",
    "\n",
    "dowData.plot.bar()"
   ]
  },
  {
   "cell_type": "code",
   "execution_count": 24,
   "metadata": {},
   "outputs": [],
   "source": [
    "strToTime = lambda x: datetime.strptime(x, \"%H:%M\")\n",
    "\n",
    "data['Time'] = [strToTime(str(x)) if type(x) != float else strToTime('00:00') for x in data[\"Time\"]]"
   ]
  },
  {
   "cell_type": "code",
   "execution_count": 25,
   "metadata": {},
   "outputs": [
    {
     "data": {
      "text/plain": [
       "count                 1355615\n",
       "unique                   1440\n",
       "top       1900-01-01 17:00:00\n",
       "freq                    13227\n",
       "first     1900-01-01 00:00:00\n",
       "last      1900-01-01 23:59:00\n",
       "Name: Time, dtype: object"
      ]
     },
     "execution_count": 25,
     "metadata": {},
     "output_type": "execute_result"
    }
   ],
   "source": [
    "data['Time'].describe()"
   ]
  },
  {
   "cell_type": "code",
   "execution_count": 26,
   "metadata": {},
   "outputs": [
    {
     "data": {
      "text/plain": [
       "<matplotlib.axes._subplots.AxesSubplot at 0x146b576d9c8>"
      ]
     },
     "execution_count": 26,
     "metadata": {},
     "output_type": "execute_result"
    },
    {
     "data": {
      "image/png": "[encoded data removed]",
      "text/plain": [
       "<Figure size 432x288 with 1 Axes>"
      ]
     },
     "metadata": {
      "needs_background": "light"
     },
     "output_type": "display_data"
    }
   ],
   "source": [
    "hours = pd.DataFrame( \n",
    "                        {\"hours\" : [x.hour if x!=np.nan else 0 for x in data['Time']],\n",
    "                         \"ind\" : [1 for x in data['Time']]}\n",
    "                    )\\\n",
    "                    .groupby('hours').count()\n",
    "\n",
    "hours.plot.bar()"
   ]
  },
  {
   "cell_type": "code",
   "execution_count": 27,
   "metadata": {
    "scrolled": true
   },
   "outputs": [
    {
     "data": {
      "text/plain": [
       "416"
      ]
     },
     "execution_count": 27,
     "metadata": {},
     "output_type": "execute_result"
    }
   ],
   "source": [
    "len(data['Local_Authority_(District)'].unique())"
   ]
  },
  {
   "cell_type": "code",
   "execution_count": 28,
   "metadata": {},
   "outputs": [
    {
     "data": {
      "text/plain": [
       "Local_Authority_(District)\n",
       "Birmingham                   26108\n",
       "Leeds                        17994\n",
       "Manchester                   13594\n",
       "Glasgow City                 12687\n",
       "Bradford                     12342\n",
       "                             ...  \n",
       "London Airport (Heathrow)      331\n",
       "Western Isles                  320\n",
       "Teesdale                       318\n",
       "Shetland Islands               283\n",
       "Orkney Islands                 226\n",
       "Name: Accident_Severity, Length: 416, dtype: int64"
      ]
     },
     "execution_count": 28,
     "metadata": {},
     "output_type": "execute_result"
    }
   ],
   "source": [
    "data\\\n",
    "    .groupby('Local_Authority_(District)')\\\n",
    "    .count()\\\n",
    "    .sort_values(by='Accident_Severity', ascending=False)\\\n",
    "    ['Accident_Severity']"
   ]
  },
  {
   "cell_type": "code",
   "execution_count": 29,
   "metadata": {},
   "outputs": [
    {
     "data": {
      "text/plain": [
       "207"
      ]
     },
     "execution_count": 29,
     "metadata": {},
     "output_type": "execute_result"
    }
   ],
   "source": [
    "len(data['Local_Authority_(Highway)'].unique())"
   ]
  },
  {
   "cell_type": "code",
   "execution_count": 30,
   "metadata": {},
   "outputs": [
    {
     "data": {
      "text/plain": [
       "Local_Authority_(Highway)\n",
       "Kent                                    36117\n",
       "Surrey                                  33819\n",
       "Lancashire                              30566\n",
       "Essex                                   29206\n",
       "Hampshire                               27182\n",
       "                                        ...  \n",
       "London Airport (Heathrow)                 331\n",
       "Na h-Eileanan an Iar (Western Isles)      320\n",
       "Shetland Islands                          283\n",
       "Orkney Islands                            226\n",
       "Isles of Scilly                            15\n",
       "Name: Accident_Severity, Length: 207, dtype: int64"
      ]
     },
     "execution_count": 30,
     "metadata": {},
     "output_type": "execute_result"
    }
   ],
   "source": [
    "data\\\n",
    "    .groupby('Local_Authority_(Highway)')\\\n",
    "    .count()\\\n",
    "    .sort_values(by='Accident_Severity', ascending=False)\\\n",
    "    ['Accident_Severity']"
   ]
  },
  {
   "cell_type": "code",
   "execution_count": 31,
   "metadata": {},
   "outputs": [
    {
     "data": {
      "text/plain": [
       "array(['A', 'B', 'C', 'Unclassified', 'Motorway', 'A(M)'], dtype=object)"
      ]
     },
     "execution_count": 31,
     "metadata": {},
     "output_type": "execute_result"
    }
   ],
   "source": [
    "data['1st_Road_Class'].unique()"
   ]
  },
  {
   "cell_type": "code",
   "execution_count": 32,
   "metadata": {},
   "outputs": [
    {
     "data": {
      "text/plain": [
       "0    3218\n",
       "1     450\n",
       "2       0\n",
       "3    3220\n",
       "4       0\n",
       "Name: 1st_Road_Number, dtype: int64"
      ]
     },
     "execution_count": 32,
     "metadata": {},
     "output_type": "execute_result"
    }
   ],
   "source": [
    "data['1st_Road_Number'].head()"
   ]
  },
  {
   "cell_type": "code",
   "execution_count": 33,
   "metadata": {},
   "outputs": [
    {
     "data": {
      "text/plain": [
       "array(['Single carriageway', 'Dual carriageway', 'One way street',\n",
       "       'Roundabout', 'Slip road', 'Unknown'], dtype=object)"
      ]
     },
     "execution_count": 33,
     "metadata": {},
     "output_type": "execute_result"
    }
   ],
   "source": [
    "data['Road_Type'].unique()"
   ]
  },
  {
   "cell_type": "code",
   "execution_count": 34,
   "metadata": {
    "scrolled": true
   },
   "outputs": [
    {
     "data": {
      "text/plain": [
       "array([30, 40, 50, 20, 60, 70, 10, 15], dtype=int64)"
      ]
     },
     "execution_count": 34,
     "metadata": {},
     "output_type": "execute_result"
    }
   ],
   "source": [
    "data['Speed_limit'].unique()"
   ]
  },
  {
   "cell_type": "code",
   "execution_count": 35,
   "metadata": {
    "scrolled": true
   },
   "outputs": [
    {
     "data": {
      "text/plain": [
       "array(['Not at junction or within 20 metres', 'Crossroads',\n",
       "       'T or staggered junction', 'Mini-roundabout', 'Other junction',\n",
       "       'More than 4 arms (not roundabout)', 'Private drive or entrance',\n",
       "       'Roundabout', 'Slip road', nan], dtype=object)"
      ]
     },
     "execution_count": 35,
     "metadata": {},
     "output_type": "execute_result"
    }
   ],
   "source": [
    "data['Junction_Detail'].unique()"
   ]
  },
  {
   "cell_type": "code",
   "execution_count": 36,
   "metadata": {},
   "outputs": [
    {
     "data": {
      "text/plain": [
       "array([nan, 'Auto traffic signal', 'Give way or uncontrolled',\n",
       "       'Stop sign', 'Authorised person',\n",
       "       'Not at junction or within 20 metres'], dtype=object)"
      ]
     },
     "execution_count": 36,
     "metadata": {},
     "output_type": "execute_result"
    }
   ],
   "source": [
    "data['Junction_Control'].unique()"
   ]
  },
  {
   "cell_type": "code",
   "execution_count": 37,
   "metadata": {},
   "outputs": [
    {
     "data": {
      "text/plain": [
       "array([nan, 'C', 'Unclassified', 'B', 'A', 'Motorway', 'A(M)'],\n",
       "      dtype=object)"
      ]
     },
     "execution_count": 37,
     "metadata": {},
     "output_type": "execute_result"
    }
   ],
   "source": [
    "data['2nd_Road_Class'].unique()"
   ]
  },
  {
   "cell_type": "markdown",
   "metadata": {},
   "source": [
    "### Modelling file preparation"
   ]
  },
  {
   "cell_type": "code",
   "execution_count": 38,
   "metadata": {},
   "outputs": [],
   "source": [
    "# encode variables\n",
    "severity = {'Slight':0, 'Serious':1, 'Fatal':2}\n",
    "\n",
    "data['response'] = [severity[x] for x in data['Accident_Severity']]\n",
    "data['hour'] = [x.hour for x in data['Time']]\n",
    "\n",
    "dowEncodings = pd.get_dummies(data, columns=['Day_of_Week'])\n",
    "policeEncoding = pd.get_dummies(data, columns=['Police_Force'])\n",
    "\n",
    "# Use binary encoding for Local_Authority_(District)\n",
    "\n",
    "localAuthorityDistrictEncoder = ce.BinaryEncoder(cols=['Local_Authority_(District)'])\n",
    "dfLocalAuthorityDistrict = localAuthorityDistrictEncoder.fit_transform(data['Local_Authority_(District)'])\n",
    "\n"
   ]
  },
  {
   "cell_type": "code",
   "execution_count": 39,
   "metadata": {},
   "outputs": [
    {
     "data": {
      "text/plain": [
       "OrdinalEncoder(cols=['Accident_Index', 'Police_Force', 'Date', 'Day_of_Week',\n",
       "                     'Time', 'Local_Authority_(District)',\n",
       "                     'Local_Authority_(Highway)', '1st_Road_Class', 'Road_Type',\n",
       "                     'Junction_Detail', 'Junction_Control', '2nd_Road_Class',\n",
       "                     'Pedestrian_Crossing-Human_Control',\n",
       "                     'Pedestrian_Crossing-Physical_Facilities',\n",
       "                     'Light_Conditions', 'Weather_Conditions',\n",
       "                     'Road_Surfa...\n",
       "Any animal in carriageway (except ridden horse)    6\n",
       "NaN                                                7\n",
       "dtype: int64},\n",
       "                        {'col': 'Urban_or_Rural_Area', 'data_type': dtype('O'),\n",
       "                         'mapping': Urban          1\n",
       "Rural          2\n",
       "Unallocated    3\n",
       "dtype: int64},\n",
       "                        {'col': 'Did_Police_Officer_Attend_Scene_of_Accident',\n",
       "                         'data_type': dtype('O'),\n",
       "                         'mapping': Yes                                                                         1\n",
       "No                                                                          2\n",
       "No - accident was reported using a self completion  form (self rep only)    3\n",
       "NaN                                                                         4\n",
       "dtype: int64}],\n",
       "               return_df=True, verbose=1)"
      ]
     },
     "execution_count": 39,
     "metadata": {},
     "output_type": "execute_result"
    }
   ],
   "source": [
    "encoder = ce.OrdinalEncoder(cols=cat_columns\n",
    "                            ,handle_missing='na'\n",
    "                            ,return_df=True\n",
    "                            ,verbose=1)\n",
    "\n",
    "encoder.fit(data)"
   ]
  },
  {
   "cell_type": "code",
   "execution_count": 40,
   "metadata": {},
   "outputs": [
    {
     "data": {
      "text/html": [
       "<div>\n",
       "<style scoped>\n",
       "    .dataframe tbody tr th:only-of-type {\n",
       "        vertical-align: middle;\n",
       "    }\n",
       "\n",
       "    .dataframe tbody tr th {\n",
       "        vertical-align: top;\n",
       "    }\n",
       "\n",
       "    .dataframe thead th {\n",
       "        text-align: right;\n",
       "    }\n",
       "</style>\n",
       "<table border=\"1\" class=\"dataframe\">\n",
       "  <thead>\n",
       "    <tr style=\"text-align: right;\">\n",
       "      <th></th>\n",
       "      <th>Unnamed: 0.1</th>\n",
       "      <th>Accident_Index</th>\n",
       "      <th>Location_Easting_OSGR</th>\n",
       "      <th>Location_Northing_OSGR</th>\n",
       "      <th>Longitude</th>\n",
       "      <th>Latitude</th>\n",
       "      <th>Police_Force</th>\n",
       "      <th>Accident_Severity</th>\n",
       "      <th>Number_of_Vehicles</th>\n",
       "      <th>Number_of_Casualties</th>\n",
       "      <th>...</th>\n",
       "      <th>Light_Conditions</th>\n",
       "      <th>Weather_Conditions</th>\n",
       "      <th>Road_Surface_Conditions</th>\n",
       "      <th>Special_Conditions_at_Site</th>\n",
       "      <th>Carriageway_Hazards</th>\n",
       "      <th>Urban_or_Rural_Area</th>\n",
       "      <th>Did_Police_Officer_Attend_Scene_of_Accident</th>\n",
       "      <th>date_new</th>\n",
       "      <th>response</th>\n",
       "      <th>hour</th>\n",
       "    </tr>\n",
       "  </thead>\n",
       "  <tbody>\n",
       "    <tr>\n",
       "      <th>0</th>\n",
       "      <td>0</td>\n",
       "      <td>1</td>\n",
       "      <td>525680.0</td>\n",
       "      <td>178240.0</td>\n",
       "      <td>-0.191170</td>\n",
       "      <td>51.489096</td>\n",
       "      <td>1</td>\n",
       "      <td>Serious</td>\n",
       "      <td>1</td>\n",
       "      <td>1</td>\n",
       "      <td>...</td>\n",
       "      <td>1</td>\n",
       "      <td>1</td>\n",
       "      <td>1</td>\n",
       "      <td>1</td>\n",
       "      <td>1</td>\n",
       "      <td>1</td>\n",
       "      <td>1</td>\n",
       "      <td>2005-04-01</td>\n",
       "      <td>1</td>\n",
       "      <td>17</td>\n",
       "    </tr>\n",
       "    <tr>\n",
       "      <th>1</th>\n",
       "      <td>1</td>\n",
       "      <td>2</td>\n",
       "      <td>524170.0</td>\n",
       "      <td>181650.0</td>\n",
       "      <td>-0.211708</td>\n",
       "      <td>51.520075</td>\n",
       "      <td>1</td>\n",
       "      <td>Slight</td>\n",
       "      <td>1</td>\n",
       "      <td>1</td>\n",
       "      <td>...</td>\n",
       "      <td>2</td>\n",
       "      <td>2</td>\n",
       "      <td>2</td>\n",
       "      <td>1</td>\n",
       "      <td>1</td>\n",
       "      <td>1</td>\n",
       "      <td>1</td>\n",
       "      <td>2005-05-01</td>\n",
       "      <td>0</td>\n",
       "      <td>17</td>\n",
       "    </tr>\n",
       "    <tr>\n",
       "      <th>2</th>\n",
       "      <td>2</td>\n",
       "      <td>3</td>\n",
       "      <td>524520.0</td>\n",
       "      <td>182240.0</td>\n",
       "      <td>-0.206458</td>\n",
       "      <td>51.525301</td>\n",
       "      <td>1</td>\n",
       "      <td>Slight</td>\n",
       "      <td>2</td>\n",
       "      <td>1</td>\n",
       "      <td>...</td>\n",
       "      <td>2</td>\n",
       "      <td>2</td>\n",
       "      <td>2</td>\n",
       "      <td>1</td>\n",
       "      <td>1</td>\n",
       "      <td>1</td>\n",
       "      <td>1</td>\n",
       "      <td>2005-06-01</td>\n",
       "      <td>0</td>\n",
       "      <td>0</td>\n",
       "    </tr>\n",
       "    <tr>\n",
       "      <th>3</th>\n",
       "      <td>3</td>\n",
       "      <td>4</td>\n",
       "      <td>526900.0</td>\n",
       "      <td>177530.0</td>\n",
       "      <td>-0.173862</td>\n",
       "      <td>51.482442</td>\n",
       "      <td>1</td>\n",
       "      <td>Slight</td>\n",
       "      <td>1</td>\n",
       "      <td>1</td>\n",
       "      <td>...</td>\n",
       "      <td>1</td>\n",
       "      <td>2</td>\n",
       "      <td>2</td>\n",
       "      <td>1</td>\n",
       "      <td>1</td>\n",
       "      <td>1</td>\n",
       "      <td>1</td>\n",
       "      <td>2005-07-01</td>\n",
       "      <td>0</td>\n",
       "      <td>10</td>\n",
       "    </tr>\n",
       "    <tr>\n",
       "      <th>4</th>\n",
       "      <td>4</td>\n",
       "      <td>5</td>\n",
       "      <td>528060.0</td>\n",
       "      <td>179040.0</td>\n",
       "      <td>-0.156618</td>\n",
       "      <td>51.495752</td>\n",
       "      <td>1</td>\n",
       "      <td>Slight</td>\n",
       "      <td>1</td>\n",
       "      <td>1</td>\n",
       "      <td>...</td>\n",
       "      <td>3</td>\n",
       "      <td>2</td>\n",
       "      <td>1</td>\n",
       "      <td>1</td>\n",
       "      <td>1</td>\n",
       "      <td>1</td>\n",
       "      <td>1</td>\n",
       "      <td>2005-10-01</td>\n",
       "      <td>0</td>\n",
       "      <td>21</td>\n",
       "    </tr>\n",
       "  </tbody>\n",
       "</table>\n",
       "<p>5 rows × 35 columns</p>\n",
       "</div>"
      ],
      "text/plain": [
       "   Unnamed: 0.1  Accident_Index  Location_Easting_OSGR  \\\n",
       "0             0               1               525680.0   \n",
       "1             1               2               524170.0   \n",
       "2             2               3               524520.0   \n",
       "3             3               4               526900.0   \n",
       "4             4               5               528060.0   \n",
       "\n",
       "   Location_Northing_OSGR  Longitude   Latitude  Police_Force  \\\n",
       "0                178240.0  -0.191170  51.489096             1   \n",
       "1                181650.0  -0.211708  51.520075             1   \n",
       "2                182240.0  -0.206458  51.525301             1   \n",
       "3                177530.0  -0.173862  51.482442             1   \n",
       "4                179040.0  -0.156618  51.495752             1   \n",
       "\n",
       "  Accident_Severity  Number_of_Vehicles  Number_of_Casualties  ...  \\\n",
       "0           Serious                   1                     1  ...   \n",
       "1            Slight                   1                     1  ...   \n",
       "2            Slight                   2                     1  ...   \n",
       "3            Slight                   1                     1  ...   \n",
       "4            Slight                   1                     1  ...   \n",
       "\n",
       "   Light_Conditions  Weather_Conditions  Road_Surface_Conditions  \\\n",
       "0                 1                   1                        1   \n",
       "1                 2                   2                        2   \n",
       "2                 2                   2                        2   \n",
       "3                 1                   2                        2   \n",
       "4                 3                   2                        1   \n",
       "\n",
       "   Special_Conditions_at_Site  Carriageway_Hazards  Urban_or_Rural_Area  \\\n",
       "0                           1                    1                    1   \n",
       "1                           1                    1                    1   \n",
       "2                           1                    1                    1   \n",
       "3                           1                    1                    1   \n",
       "4                           1                    1                    1   \n",
       "\n",
       "   Did_Police_Officer_Attend_Scene_of_Accident   date_new  response  hour  \n",
       "0                                            1 2005-04-01         1    17  \n",
       "1                                            1 2005-05-01         0    17  \n",
       "2                                            1 2005-06-01         0     0  \n",
       "3                                            1 2005-07-01         0    10  \n",
       "4                                            1 2005-10-01         0    21  \n",
       "\n",
       "[5 rows x 35 columns]"
      ]
     },
     "execution_count": 40,
     "metadata": {},
     "output_type": "execute_result"
    }
   ],
   "source": [
    "# Transform variables\n",
    "df = encoder.transform(data)\n",
    "\n",
    "df.head()"
   ]
  },
  {
   "cell_type": "code",
   "execution_count": 41,
   "metadata": {},
   "outputs": [],
   "source": [
    "# Split data\n",
    "train = df[df[\"date_new\"] <= pd.Timestamp(\"2010-12-31\")]\n",
    "holdout = df[~df.isin(train)]\n",
    "\n",
    "_ignore_columns = ['Unnamed: 0.1',\n",
    "                   'Accident_Index',\n",
    "                   'Accident_Severity',\n",
    "                   'date_new'\n",
    "                  ]\n",
    "\n",
    "train = train.drop(_ignore_columns, axis=1)\n",
    "holdout = holdout.drop(_ignore_columns, axis=1)"
   ]
  },
  {
   "cell_type": "markdown",
   "metadata": {},
   "source": [
    "## Build Model"
   ]
  },
  {
   "cell_type": "code",
   "execution_count": 42,
   "metadata": {},
   "outputs": [],
   "source": [
    "# Get list of features\n",
    "model_features = train.columns.tolist()\n",
    "model_features.remove('response')\n",
    "\n",
    "response = 'response'\n",
    "\n",
    "# Split datasets\n",
    "trainSet = df.sample(frac=0.8)\n",
    "testSet = df[~df.isin(trainSet)].dropna()\n",
    "\n",
    "X_train = trainSet[model_features].values\n",
    "y_train = trainSet[response].values\n",
    "\n",
    "X_test = testSet[model_features].values\n",
    "y_test = testSet[response].values"
   ]
  },
  {
   "cell_type": "code",
   "execution_count": 43,
   "metadata": {},
   "outputs": [],
   "source": [
    "# Define Custom loss function for this project\n",
    "def Qloss(predt : np.ndarray, dtrain : xgb.DMatrix) -> Tuple[str, float]:\n",
    "    n = dtrain.num_row()\n",
    "    \n",
    "    response_matrix = np.ndarray(shape=(n,3), dtype=float)\n",
    "    \n",
    "    for i,v in enumerate(dtrain.get_label()):\n",
    "        if v == 1:\n",
    "            response_matrix[i,0] = v\n",
    "        if v == 2:\n",
    "            response_matrix[i,1] = v\n",
    "        if v == 3:\n",
    "            response_matrix[i,2] = v\n",
    "    \n",
    "    #print(predt.shape)\n",
    "    one = 1 - response_matrix[predt == 0]\n",
    "    two = 1 - response_matrix[predt == 1]\n",
    "    three = 1 - response_matrix[predt == 2]\n",
    "    \n",
    "    alls = np.concatenate((one,two,three))\n",
    "    \n",
    "    return \"QLossFunction\",np.sqrt(np.sum(alls ** 2)/n)"
   ]
  },
  {
   "cell_type": "code",
   "execution_count": 44,
   "metadata": {
    "scrolled": true
   },
   "outputs": [],
   "source": [
    "# Prepare data for XGBoost Model\n",
    "dtrain = xgb.DMatrix(data     =  X_train  \n",
    "                     ,label   =  y_train)\n",
    "\n",
    "dtest = xgb.DMatrix (data = X_test\n",
    "                     ,label = y_test)\n",
    "\n",
    "# XGBoost parameters\n",
    "xgbparams = {\n",
    "    \"booster\": \"gbtree\",\n",
    "    \"tree_method\": \"hist\",\n",
    "    \"grow_policy\": \"lossguide\",\n",
    "    \"eta\": 0.1,\n",
    "    \"seed\": 2019,\n",
    "    \"subsample\": 0.5,\n",
    "    \"colsample_by_tree\": 0.5,\n",
    "    \"max_depth\": 10,\n",
    "    \"min_child_weight\": 10,\n",
    "    \"objective\": \"multi:softmax\",\n",
    "    \"evals\": \"logloss\",\n",
    "    \"evals_metric\": \"logloss\",\n",
    "    \"gamma\": 0,\n",
    "    \"num_class\": 3\n",
    "}"
   ]
  },
  {
   "cell_type": "code",
   "execution_count": 45,
   "metadata": {},
   "outputs": [
    {
     "name": "stdout",
     "output_type": "stream",
     "text": [
      "[18:50:42] WARNING: C:\\Users\\Administrator\\workspace\\xgboost-win64_release_1.0.0\\src\\learner.cc:328: \n",
      "Parameters: { colsample_by_tree, evals, evals_metric } might not be used.\n",
      "\n",
      "  This may not be accurate due to some parameters are only used in language bindings but\n",
      "  passed down to XGBoost core.  Or some parameters are not used but slip through this\n",
      "  verification. Please open an issue if you find above cases.\n",
      "\n",
      "\n",
      "[0]\ttrain-merror:0.14708\ttest-merror:0.14791\ttrain-QLossFunction:1.69295\ttest-QLossFunction:1.69275\n",
      "Multiple eval metrics have been passed: 'test-QLossFunction' will be used for early stopping.\n",
      "\n",
      "Will train until test-QLossFunction hasn't improved in 50 rounds.\n",
      "[1]\ttrain-merror:0.14702\ttest-merror:0.14785\ttrain-QLossFunction:1.69295\ttest-QLossFunction:1.69275\n",
      "[2]\ttrain-merror:0.14697\ttest-merror:0.14783\ttrain-QLossFunction:1.69295\ttest-QLossFunction:1.69275\n",
      "[3]\ttrain-merror:0.14699\ttest-merror:0.14785\ttrain-QLossFunction:1.69295\ttest-QLossFunction:1.69275\n",
      "[4]\ttrain-merror:0.14694\ttest-merror:0.14777\ttrain-QLossFunction:1.69295\ttest-QLossFunction:1.69275\n",
      "[5]\ttrain-merror:0.14694\ttest-merror:0.14777\ttrain-QLossFunction:1.69295\ttest-QLossFunction:1.69275\n",
      "[6]\ttrain-merror:0.14696\ttest-merror:0.14777\ttrain-QLossFunction:1.69295\ttest-QLossFunction:1.69275\n",
      "[7]\ttrain-merror:0.14696\ttest-merror:0.14779\ttrain-QLossFunction:1.69295\ttest-QLossFunction:1.69275\n",
      "[8]\ttrain-merror:0.14696\ttest-merror:0.14772\ttrain-QLossFunction:1.69295\ttest-QLossFunction:1.69275\n",
      "[9]\ttrain-merror:0.14694\ttest-merror:0.14773\ttrain-QLossFunction:1.69295\ttest-QLossFunction:1.69275\n",
      "[10]\ttrain-merror:0.14693\ttest-merror:0.14772\ttrain-QLossFunction:1.69295\ttest-QLossFunction:1.69275\n",
      "[11]\ttrain-merror:0.14694\ttest-merror:0.14772\ttrain-QLossFunction:1.69295\ttest-QLossFunction:1.69275\n",
      "[12]\ttrain-merror:0.14693\ttest-merror:0.14772\ttrain-QLossFunction:1.69295\ttest-QLossFunction:1.69275\n",
      "[13]\ttrain-merror:0.14692\ttest-merror:0.14770\ttrain-QLossFunction:1.69295\ttest-QLossFunction:1.69275\n",
      "[14]\ttrain-merror:0.14693\ttest-merror:0.14768\ttrain-QLossFunction:1.69295\ttest-QLossFunction:1.69275\n",
      "[15]\ttrain-merror:0.14693\ttest-merror:0.14768\ttrain-QLossFunction:1.69295\ttest-QLossFunction:1.69275\n",
      "[16]\ttrain-merror:0.14692\ttest-merror:0.14768\ttrain-QLossFunction:1.69295\ttest-QLossFunction:1.69275\n",
      "[17]\ttrain-merror:0.14693\ttest-merror:0.14769\ttrain-QLossFunction:1.69295\ttest-QLossFunction:1.69275\n",
      "[18]\ttrain-merror:0.14692\ttest-merror:0.14767\ttrain-QLossFunction:1.69295\ttest-QLossFunction:1.69275\n",
      "[19]\ttrain-merror:0.14691\ttest-merror:0.14767\ttrain-QLossFunction:1.69295\ttest-QLossFunction:1.69275\n"
     ]
    }
   ],
   "source": [
    "# Train model\n",
    "model1 = xgb.train(\n",
    "         dtrain = dtrain\n",
    "        ,params = xgbparams\n",
    "        ,evals = [(dtrain,'train'),(dtest,'test')]\n",
    "        ,num_boost_round = 20\n",
    "        ,early_stopping_rounds = 50\n",
    "        ,verbose_eval = 1\n",
    "        ,feval = Qloss\n",
    ")"
   ]
  },
  {
   "cell_type": "code",
   "execution_count": 46,
   "metadata": {},
   "outputs": [
    {
     "data": {
      "text/plain": [
       "<matplotlib.axes._subplots.AxesSubplot at 0x146ab842b08>"
      ]
     },
     "execution_count": 46,
     "metadata": {},
     "output_type": "execute_result"
    },
    {
     "data": {
      "image/png": "[encoded data removed]",
      "text/plain": [
       "<Figure size 432x288 with 1 Axes>"
      ]
     },
     "metadata": {
      "needs_background": "light"
     },
     "output_type": "display_data"
    }
   ],
   "source": [
    "xgb.plot_importance(model1)"
   ]
  }
 ],
 "metadata": {
  "kernelspec": {
   "display_name": "Python 3",
   "language": "python",
   "name": "python3"
  },
  "language_info": {
   "codemirror_mode": {
    "name": "ipython",
    "version": 3
   },
   "file_extension": ".py",
   "mimetype": "text/x-python",
   "name": "python",
   "nbconvert_exporter": "python",
   "pygments_lexer": "ipython3",
   "version": "3.7.6"
  }
 },
 "nbformat": 4,
 "nbformat_minor": 2
}
